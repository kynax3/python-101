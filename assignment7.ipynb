{
 "cells": [
  {
   "cell_type": "code",
   "execution_count": 1,
   "id": "dbcd54f4-afb9-41f1-b637-356bd0eb0b03",
   "metadata": {},
   "outputs": [],
   "source": [
    "#Q1\n",
    "list1=[1,2,3,4,[44,55,66,True],False,(34,56,78,89,34),{1,2,3,3,2,1},{1:34,\"key2\":[55,67,78,89],4:(45,22,61,34)},[56,'data science'],'machine learning']"
   ]
  },
  {
   "cell_type": "code",
   "execution_count": 11,
   "id": "b5f09b0c-3a6c-4669-9e4f-dba1e78daa6e",
   "metadata": {},
   "outputs": [
    {
     "data": {
      "text/plain": [
       "4134711838987085478833841242112000"
      ]
     },
     "execution_count": 11,
     "metadata": {},
     "output_type": "execute_result"
    }
   ],
   "source": [
    "def product_num(x):\n",
    "    list_num=[]\n",
    "    for i in x:\n",
    "        if type(i)==int:\n",
    "            list_num.append(i)\n",
    "        elif type(i)==list or type(i)==tuple or type(i)==set: \n",
    "            for j in i:\n",
    "                if type(j)==int:\n",
    "                    list_num.append(j)\n",
    "        elif type(i)==dict: \n",
    "            for q in i.keys():\n",
    "                if type(q)==int:\n",
    "                    list_num.append(q)\n",
    "                if type(i[q])==int:\n",
    "                    list_num.append(i[q])\n",
    "                elif type(i[q])==list or type(i[q])==tuple:\n",
    "                    for r in i[q]:\n",
    "                        if type(r)==int:\n",
    "                            list_num.append(r)\n",
    "    return list_num           \n",
    "y1=product_num(list1) \n",
    "from functools import reduce\n",
    "x1=reduce(lambda x,y:x*y,y1)\n",
    "x1"
   ]
  },
  {
   "cell_type": "code",
   "execution_count": 20,
   "id": "ec44f84a-ac79-49b2-86cd-97e1325583cb",
   "metadata": {},
   "outputs": [
    {
     "name": "stdout",
     "output_type": "stream",
     "text": [
      "['r', '$', 'd', 'z', 'm', 'g', '$', 'g', 'l', '$', 'y', 'v', 'x', 'l', 'n', 'v', '$', 'z', '$', 'w', 'z', 'g', 'z', '$', 'h', 'x', 'r', 'v', 'm', 'g', 'r', 'h', 'g', '.']"
     ]
    }
   ],
   "source": [
    "#Q2\n",
    "input_msg='I want to become a Data Scientist.'\n",
    "msg=input_msg.lower()\n",
    "alphabets='abcdefghijklmnopqrstuvwxyz'\n",
    "def encrypt(x):\n",
    "    n=[]\n",
    "    \n",
    "    for i in x:\n",
    "        if i in alphabets:\n",
    "            n.append(alphabets[-1-alphabets.find(i)])\n",
    "        elif i==' ':\n",
    "            n.append('$')\n",
    "        else:\n",
    "            n.append(i)\n",
    "    return n\n",
    "secret=encrypt(msg)\n",
    "print(secret, end='')"
   ]
  },
  {
   "cell_type": "code",
   "execution_count": 22,
   "id": "0c612c7f-9d0f-4314-835e-7f6a61255a6d",
   "metadata": {},
   "outputs": [],
   "source": [
    "final=''.join(secret)"
   ]
  },
  {
   "cell_type": "code",
   "execution_count": 23,
   "id": "25da07bb-9d75-4346-9962-87a26074e876",
   "metadata": {},
   "outputs": [
    {
     "data": {
      "text/plain": [
       "'r$dzmg$gl$yvxlnv$z$wzgz$hxrvmgrhg.'"
      ]
     },
     "execution_count": 23,
     "metadata": {},
     "output_type": "execute_result"
    }
   ],
   "source": [
    "final"
   ]
  },
  {
   "cell_type": "code",
   "execution_count": null,
   "id": "6a0020e6-d127-45ef-b168-f9119479766a",
   "metadata": {},
   "outputs": [],
   "source": [
    "msg.join"
   ]
  }
 ],
 "metadata": {
  "kernelspec": {
   "display_name": "Python 3 (ipykernel)",
   "language": "python",
   "name": "python3"
  },
  "language_info": {
   "codemirror_mode": {
    "name": "ipython",
    "version": 3
   },
   "file_extension": ".py",
   "mimetype": "text/x-python",
   "name": "python",
   "nbconvert_exporter": "python",
   "pygments_lexer": "ipython3",
   "version": "3.10.8"
  }
 },
 "nbformat": 4,
 "nbformat_minor": 5
}
