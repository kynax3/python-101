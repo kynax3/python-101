{
 "cells": [
  {
   "cell_type": "code",
   "execution_count": 1,
   "id": "dc15d7f8-3a29-404d-8e44-a4f6b7da26ca",
   "metadata": {},
   "outputs": [],
   "source": [
    "#Q1\n",
    "#Flask is a lightweight and flexible web application framework written in Python. It is designed to make getting started with web\n",
    "#development as easy as possible, with a simple and easy-to-understand interface.\n",
    "#The advantages of using Flask include:\n",
    "#Lightweight and Flexible: Flask is a lightweight framework that doesn't require any specific tools or libraries to get started. \n",
    "#It's also very flexible, allowing you to customize it to suit your needs.\n",
    "#Easy to learn: Flask has a simple and intuitive interface that makes it easy to learn, even for beginners.\n",
    "#Modular: Flask is built on a modular architecture, allowing you to use only the parts you need and leaving out the rest.\n",
    "#Extensible: Flask is highly extensible and allows you to add new features or functionality easily.\n",
    "#Large Community: Flask has a large and active community of developers who are constantly contributing new features and improvements.\n",
    "#Integrated Testing Support: Flask has built-in testing support, making it easy to test your application as you build it."
   ]
  },
  {
   "cell_type": "code",
   "execution_count": null,
   "id": "dbde8566-b26e-4df8-ad21-a980ca06abe8",
   "metadata": {},
   "outputs": [],
   "source": [
    "#Q2\n",
    "#from flask import Flask\n",
    "#\n",
    "#app=Flask(__name__)\n",
    "#\n",
    "#@app.route(\"/\")\n",
    "#def nice():\n",
    "#    return \"hello world!!\"\n",
    "#if __name__==\"__main__\":\n",
    "#    app.run(host=\"0.0.0.0\")\n"
   ]
  },
  {
   "cell_type": "code",
   "execution_count": 2,
   "id": "ff5185b0-eaf5-4b2a-92fa-4791138f411e",
   "metadata": {},
   "outputs": [],
   "source": [
    "#Q3App routing is the process of defining the URL paths that a Flask application should respond to, and the functions that\n",
    "#should be executed when a particular URL is accessed. Flask uses the concept of app routes to handle URL routing.\n",
    "#In Flask, app routes are defined using the @app.route decorator. This decorator maps a URL path to a Python function that \n",
    "#should be executed when the URL is accessed.\n",
    "#We use app routes in Flask for several reasons:\n",
    "#URL routing: App routes allow us to map a URL to a specific function or view in our Flask application.\n",
    "#Separation of concerns: App routes help us separate our application's logic into smaller, more manageable functions.\n",
    "#Code organization: App routes make it easy to organize our code and keep our Flask application organized and maintainable.\n",
    "#RESTful API design: App routes are essential for building RESTful APIs in Flask, which require a clear and consistent \n",
    "#mapping between URLs and resources.\n"
   ]
  },
  {
   "cell_type": "code",
   "execution_count": 3,
   "id": "7489850b-6855-4bc1-8cd7-bf523c38c7bc",
   "metadata": {},
   "outputs": [],
   "source": [
    "#Q4\n",
    "#from flask import Flask\n",
    "\n",
    "#app=Flask(__name__)\n",
    "\n",
    "#@app.route(\"/welcome\")\n",
    "#def nice():\n",
    "#    return \"“Welcome to ABC Corporation!!\"\n",
    "\n",
    "#@app.route(\"/\")\n",
    "#def nice1():\n",
    "#    return '''Company Name: ABC Corporation \n",
    "#        Location: India\n",
    "#        Contact Detail: 999-999-9999'''\n",
    "#if __name__==\"__main__\":\n",
    "#    app.run(host=\"0.0.0.0\")\n"
   ]
  },
  {
   "cell_type": "code",
   "execution_count": null,
   "id": "a418e13f-906f-4dbd-b0bb-3b54147c94d2",
   "metadata": {},
   "outputs": [],
   "source": [
    "#Q5 \n",
    "#In Flask, the url_for() function is used for URL building. This function takes the name of a function as an argument and returns\n",
    "#the URL path for that function. It is often used in templates to generate URLs dynamically.\n",
    "#with app.test_request_context():\n",
    "#    print(url_for('nice1'))"
   ]
  }
 ],
 "metadata": {
  "kernelspec": {
   "display_name": "Python 3 (ipykernel)",
   "language": "python",
   "name": "python3"
  },
  "language_info": {
   "codemirror_mode": {
    "name": "ipython",
    "version": 3
   },
   "file_extension": ".py",
   "mimetype": "text/x-python",
   "name": "python",
   "nbconvert_exporter": "python",
   "pygments_lexer": "ipython3",
   "version": "3.10.8"
  }
 },
 "nbformat": 4,
 "nbformat_minor": 5
}
