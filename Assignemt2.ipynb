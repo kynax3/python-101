{
 "cells": [
  {
   "cell_type": "code",
   "execution_count": 6,
   "id": "e452b1b7-8b03-4f53-bbed-5af416112689",
   "metadata": {},
   "outputs": [
    {
     "name": "stdin",
     "output_type": "stream",
     "text": [
      "Enter the percentage 78\n"
     ]
    },
    {
     "name": "stdout",
     "output_type": "stream",
     "text": [
      "C\n"
     ]
    }
   ],
   "source": [
    "#Question 1\n",
    "x=int(input('Enter the percentage'))\n",
    "if x>=0 and x<=100:\n",
    "    if x>90:\n",
    "          print(\"A\")\n",
    "    elif x>80 and x<=90:\n",
    "          print('B')\n",
    "    elif x>=60 and x<=80:\n",
    "          print (\"C\")\n",
    "    else:\n",
    "          print('D')\n",
    "else:\n",
    "    print('Enter a valid percentage!!')"
   ]
  },
  {
   "cell_type": "code",
   "execution_count": 3,
   "id": "d579a21b-4ae6-4aa4-be34-47cf63f3f6c1",
   "metadata": {},
   "outputs": [
    {
     "name": "stdin",
     "output_type": "stream",
     "text": [
      "Enter the cost price of the bike 150000\n"
     ]
    },
    {
     "name": "stdout",
     "output_type": "stream",
     "text": [
      "road tax is 22500.0\n"
     ]
    }
   ],
   "source": [
    "#Question 2\n",
    "y=int(input('Enter the cost price of the bike'))\n",
    "if y>100000:\n",
    "    print('road tax is',0.15*y)\n",
    "elif y>50000 and y<=100000:\n",
    "    print('road tax is',0.1*y)\n",
    "else:\n",
    "    print('road tax is',0.05*y)\n",
    "    \n",
    "    "
   ]
  },
  {
   "cell_type": "code",
   "execution_count": 5,
   "id": "c05b7455-055e-4a5a-8853-ee2796125964",
   "metadata": {},
   "outputs": [
    {
     "name": "stdin",
     "output_type": "stream",
     "text": [
      "Enter the city Delhi\n"
     ]
    },
    {
     "name": "stdout",
     "output_type": "stream",
     "text": [
      "Red fort is a great place to visit\n"
     ]
    }
   ],
   "source": [
    "#Question 3\n",
    "z=input('Enter the city')\n",
    "if z=='Delhi':\n",
    "    print(\"Red fort is a great place to visit\")\n",
    "elif z=='Agra':\n",
    "    print(\"Taj Mahal is a great place to visit\")\n",
    "elif z=='Jaipur':\n",
    "    print(\"Jal Mahal is a great place to visit\")\n",
    "else:\n",
    "    print('type a city')"
   ]
  },
  {
   "cell_type": "code",
   "execution_count": 9,
   "id": "abbd9757-2de3-43ce-be01-598ef5a7c88f",
   "metadata": {},
   "outputs": [
    {
     "name": "stdin",
     "output_type": "stream",
     "text": [
      "Enter a number 729\n"
     ]
    },
    {
     "name": "stdout",
     "output_type": "stream",
     "text": [
      "4\n"
     ]
    }
   ],
   "source": [
    "#Question 4\n",
    "num=int(input(\"Enter a number\"))     \n",
    "count=0\n",
    "while num>10:\n",
    "    num=num/3\n",
    "    count+=1\n",
    "print(count)        "
   ]
  },
  {
   "cell_type": "code",
   "execution_count": 11,
   "id": "2dbee4e1-e176-4ea5-b715-c3615d95370a",
   "metadata": {},
   "outputs": [
    {
     "name": "stdin",
     "output_type": "stream",
     "text": [
      "enter a non-zero number 1\n"
     ]
    },
    {
     "name": "stdout",
     "output_type": "stream",
     "text": [
      "You have pressed positively\n"
     ]
    },
    {
     "name": "stdin",
     "output_type": "stream",
     "text": [
      "enter a non-zero number 2\n"
     ]
    },
    {
     "name": "stdout",
     "output_type": "stream",
     "text": [
      "You have pressed positively\n"
     ]
    },
    {
     "name": "stdin",
     "output_type": "stream",
     "text": [
      "enter a non-zero number 0\n"
     ]
    },
    {
     "name": "stdout",
     "output_type": "stream",
     "text": [
      "bye\n"
     ]
    }
   ],
   "source": [
    "#Question 5\n",
    "# While loop is way in many programming languages to help the person to do repetitive tasks within the program. \n",
    "#It is used prefarably to iterate conditionally rather than iterating on a defined range. For example if \n",
    "q=1\n",
    "while q>0:\n",
    "    q=int(input('enter a non-zero number'))\n",
    "    if q==0:\n",
    "        break\n",
    "    print('You have pressed positively')\n",
    "print('bye')    "
   ]
  },
  {
   "cell_type": "code",
   "execution_count": 17,
   "id": "e6c8f6ec-e253-431d-8bcf-f02799973f8f",
   "metadata": {},
   "outputs": [
    {
     "name": "stdin",
     "output_type": "stream",
     "text": [
      "Enter first number 6\n",
      "Enter second number 7\n"
     ]
    },
    {
     "name": "stdout",
     "output_type": "stream",
     "text": [
      "****** *******\n",
      "***** ******\n",
      "**** *****\n",
      "*** ****\n",
      "** ***\n",
      "* **\n",
      " *\n"
     ]
    }
   ],
   "source": [
    "#Question 6\n",
    "x=int(input('Enter first number'))\n",
    "y=int(input('Enter second number'))      \n",
    "while x>0 and x<=12:\n",
    "    while y>0 and y<=12:\n",
    "        print(x*'*',y*'*')\n",
    "        x-=1\n",
    "        y-=1"
   ]
  },
  {
   "cell_type": "code",
   "execution_count": 19,
   "id": "0b6ac28e-2b78-4886-acfd-54258c4f53eb",
   "metadata": {},
   "outputs": [
    {
     "name": "stdout",
     "output_type": "stream",
     "text": [
      "10987654321"
     ]
    }
   ],
   "source": [
    "#Question 7\n",
    "x=10\n",
    "while x!=0:\n",
    "    print(x,end='')\n",
    "    x-=1"
   ]
  },
  {
   "cell_type": "code",
   "execution_count": null,
   "id": "1bc501e1-1483-4868-a561-5105d341e41c",
   "metadata": {},
   "outputs": [],
   "source": []
  }
 ],
 "metadata": {
  "kernelspec": {
   "display_name": "Python 3 (ipykernel)",
   "language": "python",
   "name": "python3"
  },
  "language_info": {
   "codemirror_mode": {
    "name": "ipython",
    "version": 3
   },
   "file_extension": ".py",
   "mimetype": "text/x-python",
   "name": "python",
   "nbconvert_exporter": "python",
   "pygments_lexer": "ipython3",
   "version": "3.10.8"
  }
 },
 "nbformat": 4,
 "nbformat_minor": 5
}
