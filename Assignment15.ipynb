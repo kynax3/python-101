{
 "cells": [
  {
   "cell_type": "code",
   "execution_count": 1,
   "id": "7c30e754-dc9a-4c81-b263-6cc764b9cf8a",
   "metadata": {},
   "outputs": [],
   "source": [
    "#Q1\n",
    "#A database is a collection of data that is organized in a way that allows for efficient storage, retrieval, and manipulation of data. \n",
    "#Databases are used to store data for a variety of applications, including websites, mobile apps, and enterprise software.\n",
    "#SQL (Structured Query Language) and NoSQL (Not only SQL) are two types of databases that differ in their data model, structure, and use cases.\n",
    "#SQL databases are based on the relational model, which organizes data into tables that are related to each other using keys. SQL databases\n",
    "#are characterized by their use of a standardized query language (SQL) to manipulate data. SQL databases are typically used for applications \n",
    "#that require complex data relationships, transactions, and consistency, such as financial systems, customer relationship management (CRM) \n",
    "#systems, and enterprise resource planning (ERP) systems.\n",
    "#NoSQL databases, on the other hand, are not based on the relational model and do not use SQL as their query language. NoSQL databases \n",
    "#are designed to handle large volumes of unstructured or semi-structured data, and are often used for applications that require high scalability, \n",
    "#availability, and performance, such as social media, e-commerce, and gaming applications. NoSQL databases can use a variety of data models, such \n",
    "#as document-oriented, graph, key-value, or column-family.\n",
    "#In summary, SQL databases are best suited for applications that require complex data relationships and consistency, while NoSQL databases are \n",
    "#better suited for applications that require high scalability and performance with semi-structured or unstructured data."
   ]
  },
  {
   "cell_type": "code",
   "execution_count": 2,
   "id": "4a3353d0-f8ae-4dcd-87b2-8ddb5a10800f",
   "metadata": {},
   "outputs": [],
   "source": [
    "#Q2\n",
    "#DDL stands for Data Definition Language, which is a set of SQL commands used to define the structure and schema of a database. \n",
    "#DDL commands are used to create, modify, and delete database objects, such as tables, indexes, and constraints.\n",
    "#CREATE: The CREATE command is used to create a new database object, such as a table, view, or index. \n",
    "#    CREATE TABLE customers (\n",
    "#   id INT,\n",
    "#   name VARCHAR(50),\n",
    "#   email VARCHAR(100)\n",
    "#);\n",
    "#DROP: The DROP command is used to delete an existing database object. \n",
    "#    DROP TABLE customers;\n",
    "#ALTER: The ALTER command is used to modify the structure of an existing database object, such as adding or deleting columns or changing data types.\n",
    "#    ALTER TABLE customers ADD COLUMN phone VARCHAR(20);\n",
    "#TRUNCATE: The TRUNCATE command is used to delete all data from a table, but keep the table structure intact.\n",
    "#    TRUNCATE TABLE customers;"
   ]
  },
  {
   "cell_type": "code",
   "execution_count": 3,
   "id": "a02d5a87-3605-4186-8603-68ddfef7c85d",
   "metadata": {},
   "outputs": [],
   "source": [
    "#Q3\n",
    "#DML stands for Data Manipulation Language, which is a set of SQL commands used to manipulate data in a database. \n",
    "#DML commands are used to insert, update, and delete data in a table.\n",
    "#INSERT: The INSERT command is used to add new data to a table. \n",
    "#    INSERT INTO customers (name, email, phone)\n",
    "#    VALUES ('John Doe', 'johndoe@example.com', '555-1234');\n",
    "#UPDATE: The UPDATE command is used to modify existing data in a table. \n",
    "#   UPDATE customers\n",
    "#   SET email = 'newemail@example.com'\n",
    "#   WHERE id = 1;\n",
    "#DELETE: The DELETE command is used to delete data from a table. \n",
    "#   DELETE FROM customers\n",
    "#   WHERE id = 2;"
   ]
  },
  {
   "cell_type": "code",
   "execution_count": 4,
   "id": "26806840-fab7-463e-9242-f64b48792219",
   "metadata": {},
   "outputs": [],
   "source": [
    "#Q4\n",
    "#DQL stands for Data Query Language, which is a set of SQL commands used to retrieve data from a database. \n",
    "#DQL commands are used to query data from one or more tables and return the results in a specified format.\n",
    "#The most commonly used DQL command is SELECT, which is used to retrieve data from one or more tables in a database.\n",
    "#SELECT * FROM customers;"
   ]
  },
  {
   "cell_type": "code",
   "execution_count": null,
   "id": "76fa8ebc-a741-4eb3-88db-a60f77270923",
   "metadata": {},
   "outputs": [],
   "source": [
    "#Q5\n",
    "#A primary key and a foreign key are two important concepts in relational database design that help to establish relationships between tables.\n",
    "#   A primary key is a unique identifier for each row in a table. It is used to enforce data integrity and ensure that each row can be \n",
    "#uniquely identified. Typically, a primary key is created by selecting one or more columns in a table that are guaranteed to be unique\n",
    "#, such as an ID column. Primary keys can also be composite, meaning they are made up of more than one column. Primary keys are used to\n",
    "#create relationships between tables, as they can be used as the basis for foreign keys in other tables.\n",
    "#  A foreign key is a column in a table that references the primary key of another table. It is used to establish a relationship between two\n",
    "#tables and enforce referential integrity, which means that data in one table must exist in another table. When a foreign key is created, \n",
    "#it must reference an existing primary key in another table. This ensures that the data in the foreign key column is valid and can be used\n",
    "#to join data between the two tables."
   ]
  },
  {
   "cell_type": "code",
   "execution_count": null,
   "id": "ed22b8bf-6d85-497d-90f2-ce7027cde69c",
   "metadata": {},
   "outputs": [],
   "source": [
    "#Q6\n",
    "import mysql.connector\n",
    "# establish connection to MySQL database\n",
    "mydb = mysql.connector.connect(\n",
    "  host=\"localhost\",\n",
    "  user=\"yourusername\",\n",
    "  password=\"yourpassword\",\n",
    "  database=\"yourdatabase\"\n",
    ")\n",
    "# create cursor object\n",
    "mycursor = mydb.cursor()\n",
    "# execute SQL query\n",
    "mycursor.execute(\"SELECT * FROM yourtable\")\n",
    "# fetch all the rows from the query result\n",
    "myresult = mycursor.fetchall()\n",
    "# iterate through the rows and print each row\n",
    "for row in myresult:\n",
    "  print(row)"
   ]
  },
  {
   "cell_type": "code",
   "execution_count": null,
   "id": "5454dad9-8946-4513-949c-704b9f69aa8c",
   "metadata": {},
   "outputs": [],
   "source": [
    "#Q7\n",
    "#In a typical SQL query, the clauses are executed in the following order:\n",
    "#FROM clause: This clause specifies the table(s) from which data is to be retrieved. It is the first clause executed in the query.\n",
    "#WHERE clause: This clause filters the data retrieved from the table(s) specified in the FROM clause based on certain conditions. \n",
    "#               It is executed after the FROM clause.\n",
    "#GROUP BY clause: This clause groups the data based on certain columns in the SELECT statement. It is executed after the WHERE clause.\n",
    "#HAVING clause: This clause filters the groups formed by the GROUP BY clause based on certain conditions. It is executed after the GROUP BY clause.\n",
    "#SELECT clause: This clause specifies the columns to be retrieved from the table(s) specified in the FROM clause. It is executed after the \n",
    "#                HAVING clause.\n",
    "#ORDER BY clause: This clause sorts the result set based on certain columns specified in the SELECT statement. It is executed after the \n",
    "#                SELECT statement.\n",
    "#LIMIT clause: This clause limits the number of rows returned by the query. It is executed last."
   ]
  }
 ],
 "metadata": {
  "kernelspec": {
   "display_name": "Python 3 (ipykernel)",
   "language": "python",
   "name": "python3"
  },
  "language_info": {
   "codemirror_mode": {
    "name": "ipython",
    "version": 3
   },
   "file_extension": ".py",
   "mimetype": "text/x-python",
   "name": "python",
   "nbconvert_exporter": "python",
   "pygments_lexer": "ipython3",
   "version": "3.10.8"
  }
 },
 "nbformat": 4,
 "nbformat_minor": 5
}
