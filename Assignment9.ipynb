{
 "cells": [
  {
   "cell_type": "code",
   "execution_count": 1,
   "id": "71cdcbe1-e046-4d64-a66c-2396c8526a83",
   "metadata": {},
   "outputs": [],
   "source": [
    "#Q1\n",
    "class vehicle:\n",
    "    def __init__(self, name_of_vehicle, max_speed, average_of_vehicle):\n",
    "        self.name_of_vehicle=name_of_vehicle\n",
    "        self.max_speed=max_speed\n",
    "        self.average_of_vehicle=average_of_vehicle        "
   ]
  },
  {
   "cell_type": "code",
   "execution_count": 10,
   "id": "90a53f3b-ee1c-4f03-bd8e-779f3583e393",
   "metadata": {},
   "outputs": [
    {
     "data": {
      "text/plain": [
       "(4, 'maruti sx4')"
      ]
     },
     "execution_count": 10,
     "metadata": {},
     "output_type": "execute_result"
    }
   ],
   "source": [
    "#Q2\n",
    "class car(vehicle):\n",
    "    def seating_capacity(self,capacity):\n",
    "        return capacity,self.name_of_vehicle\n",
    "car1=car(\"maruti sx4\",180,12)    \n",
    "car1.seating_capacity(4)      "
   ]
  },
  {
   "cell_type": "code",
   "execution_count": 16,
   "id": "f5a984b1-084d-460a-853d-e5a975540479",
   "metadata": {},
   "outputs": [
    {
     "data": {
      "text/plain": [
       "('7t', 'onelus', 2021)"
      ]
     },
     "execution_count": 16,
     "metadata": {},
     "output_type": "execute_result"
    }
   ],
   "source": [
    "#Q3 - Multiple inheritance is a type of inheritance in which a child class has two or more parent classes from where\n",
    "#it can inherit the behavior along with the methods associtated with the parent class.\n",
    "class mobile:\n",
    "    def __init__(self,company):\n",
    "        self.company=company\n",
    "class model:\n",
    "    def __init__(self,model_no):\n",
    "        self.model_no=model_no\n",
    "    def upgrade(self):\n",
    "        return 'gg'\n",
    "class myphone(mobile,model):\n",
    "    def __init__(self,company,model_no):\n",
    "        mobile.__init__(self,company)\n",
    "        model.__init__(self,model_no)\n",
    "    def show_details(self,year):\n",
    "        return self.model_no,self.company,year\n",
    "phone=myphone(\"onelus\",\"7t\")\n",
    "phone.show_details(2021)"
   ]
  },
  {
   "cell_type": "code",
   "execution_count": 17,
   "id": "18a8a755-fe71-404e-8d7f-7d119f4a063a",
   "metadata": {},
   "outputs": [
    {
     "data": {
      "text/plain": [
       "'gg'"
      ]
     },
     "execution_count": 17,
     "metadata": {},
     "output_type": "execute_result"
    }
   ],
   "source": [
    "phone.upgrade()"
   ]
  },
  {
   "cell_type": "code",
   "execution_count": 7,
   "id": "29170cc6-dc15-4b1f-80e9-55008dc9e6a2",
   "metadata": {},
   "outputs": [],
   "source": [
    "#Q4 \n",
    "#Getters and setters are special methods used to access and modify attributes respectively which are restricted to the user(public).\n",
    "\n",
    "class person:\n",
    "    def __init__(self,name,number):\n",
    "        self.name=name\n",
    "        self.__number=number\n",
    "    @property\n",
    "    def number_check(self):\n",
    "        return self.__number\n",
    "    @number_check.setter\n",
    "    def update_number(self,num):\n",
    "        if num>100:\n",
    "            self.__number=num\n",
    "        else:\n",
    "            pass\n",
    "new=person(\"rohit\",97987)"
   ]
  },
  {
   "cell_type": "code",
   "execution_count": 8,
   "id": "63a0982d-f89d-466c-aac0-e0102ab917b4",
   "metadata": {},
   "outputs": [
    {
     "data": {
      "text/plain": [
       "97987"
      ]
     },
     "execution_count": 8,
     "metadata": {},
     "output_type": "execute_result"
    }
   ],
   "source": [
    "#Getter method\n",
    "new.number_check"
   ]
  },
  {
   "cell_type": "code",
   "execution_count": 10,
   "id": "3af2869e-65a9-4067-b210-b27d80761078",
   "metadata": {},
   "outputs": [
    {
     "data": {
      "text/plain": [
       "98777"
      ]
     },
     "execution_count": 10,
     "metadata": {},
     "output_type": "execute_result"
    }
   ],
   "source": [
    "#Setter method\n",
    "new.update_number=98777\n",
    "new.number_check"
   ]
  },
  {
   "cell_type": "code",
   "execution_count": 1,
   "id": "e1ef1deb-6387-48d9-98df-d97a5d0a9c01",
   "metadata": {},
   "outputs": [],
   "source": [
    "#Q5\n",
    "#Method overriding is a feature in object-oriented programming that allows a subclass to provide a different implementation for a method\n",
    "#that is already defined in its parent class. The child class \"overrides\" the implementation of the method from its parent class,\n",
    "#hence the name \"method overriding.\"\n",
    "#In Python, method overriding is achieved by defining a method in the child class with the same name as the method in the parent class.\n",
    "#When a method with the same name is defined in the child class, it takes precedence over the method in the parent class,\n",
    "#and the subclass's implementation of the method is used instead of the superclass's implementation."
   ]
  },
  {
   "cell_type": "code",
   "execution_count": 2,
   "id": "c57a67a7-adeb-47a1-872c-6cc8560ee475",
   "metadata": {},
   "outputs": [],
   "source": [
    "class bike:\n",
    "    def mileage(self):\n",
    "        return \"Better than cars\"\n",
    "class yamaha(bike):\n",
    "    def mileage(self):\n",
    "        return \"Better than automatic cars\"\n",
    "mybike=yamaha()"
   ]
  },
  {
   "cell_type": "code",
   "execution_count": 3,
   "id": "0b933f47-75a4-48a2-9de8-faaf92c64d85",
   "metadata": {},
   "outputs": [
    {
     "data": {
      "text/plain": [
       "'Better than automatic cars'"
      ]
     },
     "execution_count": 3,
     "metadata": {},
     "output_type": "execute_result"
    }
   ],
   "source": [
    "mybike.mileage()"
   ]
  },
  {
   "cell_type": "code",
   "execution_count": null,
   "id": "91c249fa-286d-4a7a-b097-6ed6dd538e75",
   "metadata": {},
   "outputs": [],
   "source": [
    "#bike method has been overriden by the child class method defined in yamaha in this case"
   ]
  }
 ],
 "metadata": {
  "kernelspec": {
   "display_name": "Python 3 (ipykernel)",
   "language": "python",
   "name": "python3"
  },
  "language_info": {
   "codemirror_mode": {
    "name": "ipython",
    "version": 3
   },
   "file_extension": ".py",
   "mimetype": "text/x-python",
   "name": "python",
   "nbconvert_exporter": "python",
   "pygments_lexer": "ipython3",
   "version": "3.10.8"
  }
 },
 "nbformat": 4,
 "nbformat_minor": 5
}
