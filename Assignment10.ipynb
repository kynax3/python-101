{
 "cells": [
  {
   "cell_type": "code",
   "execution_count": 1,
   "id": "31b4fa6f-16e3-4d26-a2ab-f1b0bde9e77b",
   "metadata": {},
   "outputs": [],
   "source": [
    "#Q1\n",
    "# The open() function is used to open a file. It takes two arguments: \n",
    "# the first argument is the name of the file that you want to open, and the second argument is the mode in which you want to open the file.\n",
    "# The different modes of opening a file in Python are:\n",
    "# \"r\": read mode. This mode is used to read data from a file. If the file does not exist, an error will be raised.\n",
    "# \"w\": write mode. This mode is used to write data to a file. If the file does not exist, a new file will be created. If the file already exists,\n",
    "#     its contents will be overwritten.\n",
    "# \"a\": append mode. This mode is used to add new data to the end of an existing file. If the file does not exist, a new file will be created.\n",
    "# \"x\": exclusive creation mode. This mode is used to create a new file, but it will raise an error if the file already exists.\n",
    "# \"b\": binary mode. This mode is used to read or write binary data, such as images or other non-text files.\n",
    "# \"t\": text mode. This mode is used to read or write text data, such as strings or other human-readable text.\n",
    "# \"+\": read/write mode. This mode is used to read and write data to a file at the same time."
   ]
  },
  {
   "cell_type": "code",
   "execution_count": 1,
   "id": "0514f95b-89c3-4f89-9ead-bf1c2743cd7e",
   "metadata": {},
   "outputs": [],
   "source": [
    "#Q2\n",
    "# In Python, the close() function is used to close a file after it has been opened using the open() function. It is important to close a file after\n",
    "# you are done working with it because it ensures that any data that has been buffered in memory is written to the file, and that any system \n",
    "# resources being used by the file are released.\n",
    "# If you do not close a file after you are done working with it, it can lead to a number of problems:\n",
    "# Resource leaks: If you do not close a file, the system resources being used by the file, such as file handles, will not be released.\n",
    "#  This can cause your program to run out of system resources over time, which can lead to crashes or other unexpected behavior.\n",
    "# Data corruption: If you write data to a file but do not close the file, some or all of the data may be buffered in memory and not written to the \n",
    "#  file.This can lead to data corruption or loss if your program crashes or terminates unexpectedly.\n",
    "# File locking: Some operating systems may lock files while they are being used by a program. If you do not close a file, it may remain locked and\n",
    "#  inaccessible to other programs until your program terminates."
   ]
  },
  {
   "cell_type": "code",
   "execution_count": 8,
   "id": "735b9db8-3d72-4806-99ce-12e13628e346",
   "metadata": {},
   "outputs": [],
   "source": [
    "#Q3\n",
    "file=open('Ds.txt','w')"
   ]
  },
  {
   "cell_type": "code",
   "execution_count": 9,
   "id": "7f477561-d222-4aab-abaa-543c0ddf35a3",
   "metadata": {},
   "outputs": [
    {
     "name": "stdout",
     "output_type": "stream",
     "text": [
      "i want to become a data scientist\n"
     ]
    }
   ],
   "source": [
    "file.write(\"i want to become a data scientist\")\n",
    "file.close()\n",
    "file=open(\"Ds.txt\",\"r\")\n",
    "content=file.read()\n",
    "file.close()\n",
    "print(content)"
   ]
  },
  {
   "cell_type": "code",
   "execution_count": 10,
   "id": "4705baee-3d6a-42c6-a1ba-cf04a12eb74b",
   "metadata": {},
   "outputs": [],
   "source": [
    "#Q4\n",
    "#1 read(): This method reads the entire contents of a file and returns them as a string.\n",
    "#2 readline(): This method reads a single line from a file and returns it as a string. Each time you call this method, it will return the next line\n",
    "#  in the file. If you call this method again and there are no more lines to read, it will return an empty string.\n",
    "#3 readlines(): This method reads all the lines of a file and returns them as a list of strings, where each string represents a single line in the file."
   ]
  },
  {
   "cell_type": "code",
   "execution_count": 11,
   "id": "3c9f8ffc-0875-45a0-a056-74a5872ef65a",
   "metadata": {},
   "outputs": [],
   "source": [
    "#Q5\n",
    "# The with statement is used with the open() function to ensure that a file is properly closed after it has been used. \n",
    "#  When a file is opened using the open() function, it remains open until it is explicitly closed using the close() method\n",
    "#  which can lead to problems related to not closing of files."
   ]
  },
  {
   "cell_type": "code",
   "execution_count": 12,
   "id": "3a2205cc-2c95-4789-a870-f0d9fa86ddfe",
   "metadata": {},
   "outputs": [],
   "source": [
    "#Q6\n",
    "# write(): This method is used to write a string to a file. It returns the number of characters written to the file.\n"
   ]
  },
  {
   "cell_type": "code",
   "execution_count": 13,
   "id": "8c38a6b3-79db-4c60-a113-dc8fab4b2978",
   "metadata": {},
   "outputs": [],
   "source": [
    "file=open('Ds.txt','w')\n",
    "file.write(\"i want to become a data scientist\")\n",
    "file.close()"
   ]
  },
  {
   "cell_type": "code",
   "execution_count": null,
   "id": "9649269a-15ae-4f78-a636-40db84837e9f",
   "metadata": {},
   "outputs": [],
   "source": [
    "# writelines(): This method is used to write a list of strings to a file. Each string in the list represents a single line in the file. \n",
    "#  This method does not add newline characters to the end of each string, so you must include them manually if you want them to appear\n",
    "#  in the file."
   ]
  },
  {
   "cell_type": "code",
   "execution_count": 14,
   "id": "ebae38b1-7ad9-4766-b97f-9d97309c6680",
   "metadata": {},
   "outputs": [],
   "source": [
    "file = open(\"example.txt\", \"w\")\n",
    "lines = [\"I want to become a Data Scientist\\n\", \"I love programming\\n\", \"Python is my favorite language\\n\"]\n",
    "file.writelines(lines)\n",
    "file.close()"
   ]
  },
  {
   "cell_type": "code",
   "execution_count": null,
   "id": "15ad76f5-4830-49a0-bd37-9b88f2856567",
   "metadata": {},
   "outputs": [],
   "source": []
  }
 ],
 "metadata": {
  "kernelspec": {
   "display_name": "Python 3 (ipykernel)",
   "language": "python",
   "name": "python3"
  },
  "language_info": {
   "codemirror_mode": {
    "name": "ipython",
    "version": 3
   },
   "file_extension": ".py",
   "mimetype": "text/x-python",
   "name": "python",
   "nbconvert_exporter": "python",
   "pygments_lexer": "ipython3",
   "version": "3.10.8"
  }
 },
 "nbformat": 4,
 "nbformat_minor": 5
}
