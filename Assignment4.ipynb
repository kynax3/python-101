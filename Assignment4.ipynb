{
 "cells": [
  {
   "cell_type": "code",
   "execution_count": 7,
   "id": "98fc4769-bbe2-4446-ae02-bc5bce68bfd7",
   "metadata": {},
   "outputs": [
    {
     "data": {
      "text/plain": [
       "[1, 3, 5, 7, 9, 11, 13, 15, 17, 19, 21, 23, 25]"
      ]
     },
     "execution_count": 7,
     "metadata": {},
     "output_type": "execute_result"
    }
   ],
   "source": [
    "#Q1 - def is used to create a function.\n",
    "def odd_num(a,b):\n",
    "    n=[]\n",
    "    for i in range(a,b+1):\n",
    "        if i%2!=0:\n",
    "            n.append(i)\n",
    "    return n\n",
    "odd_num(1,25)"
   ]
  },
  {
   "cell_type": "code",
   "execution_count": 10,
   "id": "2894148a-b76e-4e0f-91dc-fcfc46dfdb61",
   "metadata": {},
   "outputs": [
    {
     "data": {
      "text/plain": [
       "15"
      ]
     },
     "execution_count": 10,
     "metadata": {},
     "output_type": "execute_result"
    }
   ],
   "source": [
    "#Q2 - *args is used in the argument while defining a function so that the function is able to take any number of arguments.\n",
    "#     **kwargs is used so that any number of keyword value pairs can be taken by the function as argument.\n",
    "def sums(*args):\n",
    "    x=0\n",
    "    for i in args:\n",
    "        x=x+i\n",
    "    return x\n",
    "sums(1,3,5,6)\n",
    "        \n",
    "    "
   ]
  },
  {
   "cell_type": "code",
   "execution_count": 11,
   "id": "93d47219-9a10-4b57-a386-27fac224f394",
   "metadata": {},
   "outputs": [
    {
     "data": {
      "text/plain": [
       "['ab', 'cd']"
      ]
     },
     "execution_count": 11,
     "metadata": {},
     "output_type": "execute_result"
    }
   ],
   "source": [
    "def toms(**kwargs):\n",
    "    y=[]\n",
    "    for i in kwargs:\n",
    "        if kwargs[i]>5:\n",
    "            y.append(i)\n",
    "    return y\n",
    "toms(ab=23, cd=22, dv=2)"
   ]
  },
  {
   "cell_type": "code",
   "execution_count": 3,
   "id": "e5b58c34-da19-4822-80e6-cb7a382d16b2",
   "metadata": {},
   "outputs": [
    {
     "name": "stdout",
     "output_type": "stream",
     "text": [
      "2\n",
      "4\n",
      "6\n",
      "8\n",
      "10\n"
     ]
    }
   ],
   "source": [
    "#Q3 -  An iterator is an object that contains a countable number of values.An iterator is an object that can be \n",
    "#      iterated upon, meaning that you can traverse through all the values. iter() is used to initialise iterate the object\n",
    "#        and next is used to iterate over the iterated object\n",
    "x=[2*i for i in range(1,10)]\n",
    "x=iter(x)\n",
    "for q in range(0,5):\n",
    "    print(next(x))"
   ]
  },
  {
   "cell_type": "code",
   "execution_count": 8,
   "id": "b157855e-22be-40e2-b95e-b876a9ef372a",
   "metadata": {},
   "outputs": [
    {
     "data": {
      "text/plain": [
       "<generator object test1 at 0x7f98cdbbdfc0>"
      ]
     },
     "execution_count": 8,
     "metadata": {},
     "output_type": "execute_result"
    }
   ],
   "source": [
    "#Q4 - Generator Functions are memory efficient.A normal function will return a sequence of items,compile and store before giving the result, \n",
    "#     whereas the generator function produces one output at a time.Yield is used instead of return for a generator function.\n",
    "def test1(a):\n",
    "    for i in a:\n",
    "        if i%2 ==0:\n",
    "            yield i\n",
    "test1(10)            \n",
    "        "
   ]
  },
  {
   "cell_type": "code",
   "execution_count": 11,
   "id": "ac9a950b-9da1-42b8-b22d-47a24b230120",
   "metadata": {},
   "outputs": [
    {
     "name": "stdout",
     "output_type": "stream",
     "text": [
      "10\n",
      "34\n"
     ]
    }
   ],
   "source": [
    "for w in test1([10,121,34]):\n",
    "    print (w)"
   ]
  },
  {
   "cell_type": "code",
   "execution_count": 41,
   "id": "9ec10e1f-9ff5-42d1-851c-ab8a1e3ca221",
   "metadata": {},
   "outputs": [],
   "source": [
    "#Q5 -\n",
    "def prime_num(x):\n",
    "    for i in range(1,x):\n",
    "        for j in range(2,i):\n",
    "            if i!=j and i%j==0:\n",
    "                break\n",
    "            else:\n",
    "                yield i\n",
    "                break"
   ]
  },
  {
   "cell_type": "code",
   "execution_count": 42,
   "id": "223eead5-d027-49e9-aa8f-048713f4a5be",
   "metadata": {},
   "outputs": [
    {
     "name": "stdout",
     "output_type": "stream",
     "text": [
      "3\n"
     ]
    }
   ],
   "source": [
    "qwe=iter(prime_num(1000))\n",
    "print(next(qwe))"
   ]
  },
  {
   "cell_type": "code",
   "execution_count": 44,
   "id": "8232ec88-6863-41a6-818e-30811a6e414a",
   "metadata": {},
   "outputs": [
    {
     "name": "stdout",
     "output_type": "stream",
     "text": [
      "45 47 49 51 53 55 57 59 61 63 65 67 69 71 73 75 77 79 81 83 "
     ]
    }
   ],
   "source": [
    "for t in range(0,20):\n",
    "    print(next(qwe),end=' ')"
   ]
  },
  {
   "cell_type": "code",
   "execution_count": null,
   "id": "64e3690e-3b53-4388-b211-209fc145b562",
   "metadata": {},
   "outputs": [],
   "source": [
    "#Using next statement the output is available once upon execution as it is not stored.\n",
    "# Note - Twice executed."
   ]
  }
 ],
 "metadata": {
  "kernelspec": {
   "display_name": "Python 3 (ipykernel)",
   "language": "python",
   "name": "python3"
  },
  "language_info": {
   "codemirror_mode": {
    "name": "ipython",
    "version": 3
   },
   "file_extension": ".py",
   "mimetype": "text/x-python",
   "name": "python",
   "nbconvert_exporter": "python",
   "pygments_lexer": "ipython3",
   "version": "3.10.8"
  }
 },
 "nbformat": 4,
 "nbformat_minor": 5
}
