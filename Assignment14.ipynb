{
 "cells": [
  {
   "cell_type": "code",
   "execution_count": 2,
   "id": "d5a14eca-56a6-4fa2-b71b-86f5ddb1d153",
   "metadata": {},
   "outputs": [],
   "source": [
    "#Q1 - Multiprocessing in Python is a way to use multiple CPUs or cores of a computer to perform concurrent execution of multiple processes.\n",
    "#It allows a program to perform tasks in parallel, thereby improving the overall performance of the program.\n",
    "#In Python, the multiprocessing module provides a way to create and manage processes, allowing a program to divide a task into smaller, \n",
    "#independent tasks that can be executed simultaneously. Each process runs independently, with its own memory space and resources, allowing it\n",
    "#to make full use of the available CPU and memory resources.\n",
    "#Multiprocessing is useful in many scenarios, such as:\n",
    "#CPU-bound tasks: When the task involves a lot of computational operations, multiprocessing can significantly reduce the processing time by\n",
    "#      dividing the task into smaller parts and executing them simultaneously.\n",
    "#Parallel processing: Multiprocessing allows you to run multiple processes in parallel, which can speed up the execution of a program.\n",
    "#Improved performance: By utilizing multiple CPUs or cores, multiprocessing can significantly improve the performance of a program.\n",
    "#Handling I/O-bound tasks: Multiprocessing can also be used to handle I/O-bound tasks, such as reading or writing to a file, by running \n",
    "#        these tasks concurrently, thereby reducing the time it takes to complete them.\n",
    "#Overall multiprocessing is a powerful feature of Python that can help you take advantage of the multi-core processors in modern computers\n",
    "#    and improve the performance of your programs."
   ]
  },
  {
   "cell_type": "code",
   "execution_count": 3,
   "id": "603ac2fd-9e02-47b8-831e-96da587746d4",
   "metadata": {},
   "outputs": [],
   "source": [
    "#Q2\n",
    "#Multiprocessing and multithreading are two different approaches to achieving concurrency in computer programs. While they both allow \n",
    "#multiple tasks to run simultaneously, they differ in several ways:\n",
    "#Memory Space: Each process in multiprocessing has its own memory space, while all threads in multithreading share the same memory space.\n",
    "#CPU Usage: Each process in multiprocessing can utilize a separate CPU or core, while all threads in multithreading run on a single CPU.\n",
    "#Resource Management: Multiprocessing has a higher overhead cost for managing resources because each process has its own memory space and\n",
    "#requires inter-process communication. Multithreading, on the other hand, has lower overhead cost for managing resources as all threads\n",
    "#share the same memory space and can communicate easily.\n",
    "#Stability: Multiprocessing is generally more stable than multithreading, as any issues with one process will not affect other processes.\n",
    "#            In contrast, issues with one thread can cause problems for the entire program.\n",
    "#Complexity: Multiprocessing is generally more complex than multithreading because of the need for inter-process communication and synchronization.\n",
    "#            Multithreading is simpler because threads share the same memory space and can communicate easily.\n",
    "#In general, multiprocessing is more suitable for CPU-bound tasks that require heavy computational work and can benefit from utilizing multiple\n",
    "#CPUs or cores. Multithreading is more suitable for I/O-bound tasks that require frequent access to shared resources and can benefit from \n",
    "#running multiple threads on a single CPU. However, the choice between multiprocessing and multithreading ultimately depends on the \n",
    "#specific requirements and constraints of the program."
   ]
  },
  {
   "cell_type": "code",
   "execution_count": 4,
   "id": "1b9f19a7-b0fc-47f2-b889-910d67ba67cf",
   "metadata": {},
   "outputs": [
    {
     "name": "stdout",
     "output_type": "stream",
     "text": [
      "this is my main prod\n",
      "this is my multiprocessing.\n"
     ]
    }
   ],
   "source": [
    "#Q3\n",
    "import multiprocessing\n",
    "def test():\n",
    "    print (\"this is my multiprocessing.\")\n",
    "if __name__==\"__main__\":\n",
    "    m=multiprocessing.Process(target=test)\n",
    "    print (\"this is my main prod\")\n",
    "    m.start()\n",
    "    m.join()  "
   ]
  },
  {
   "cell_type": "code",
   "execution_count": 5,
   "id": "8e03f7f7-9059-4cfc-b8c1-68268ef512a8",
   "metadata": {},
   "outputs": [],
   "source": [
    "#Q4    A multiprocessing pool in Python is a way to create a pool of worker processes that can be used to execute tasks concurrently. \n",
    "#    It allows you to divide a large task into smaller sub-tasks that can be executed in parallel, thereby improving the performance \n",
    "#    of your program.The multiprocessing pool also provides a way to limit the number of worker processes that are created, which can help\n",
    "#    prevent resource exhaustion on the system. By default, the pool creates a number of worker processes equal to the number of CPU cores\n",
    "#    on the system. \n"
   ]
  },
  {
   "cell_type": "code",
   "execution_count": 6,
   "id": "051f9827-ed82-4970-b5b1-8200211eb502",
   "metadata": {},
   "outputs": [
    {
     "name": "stdout",
     "output_type": "stream",
     "text": [
      "[9, 36, 25, 9, 25, 25, 25, 16]\n"
     ]
    }
   ],
   "source": [
    "#Q5\n",
    "def square(n):\n",
    "    return n**2\n",
    "if __name__=='__main__':\n",
    "    with multiprocessing.Pool(processes=5)as pool:\n",
    "        out=pool.map(square,[3,6,5,3,5,5,5,4])\n",
    "        print(out)\n",
    "        "
   ]
  },
  {
   "cell_type": "code",
   "execution_count": 7,
   "id": "82f28d4d-d60c-40ac-b380-c0adbe84574d",
   "metadata": {},
   "outputs": [
    {
     "name": "stdout",
     "output_type": "stream",
     "text": [
      "1\n",
      "2\n",
      "3\n",
      "4\n"
     ]
    }
   ],
   "source": [
    "#Q6\n",
    "import multiprocessing\n",
    "\n",
    "def print_number(num):\n",
    "    print(num)\n",
    "\n",
    "if __name__ == '__main__':\n",
    "    process_list = []\n",
    "    \n",
    "    for num in range(1, 5):\n",
    "        p = multiprocessing.Process(target=print_number, args=(num,))\n",
    "        process_list.append(p)\n",
    "        p.start()\n",
    "\n",
    "    for p in process_list:\n",
    "        p.join()"
   ]
  },
  {
   "cell_type": "code",
   "execution_count": null,
   "id": "2258841b-4a26-4a22-b38a-2832e35edf25",
   "metadata": {},
   "outputs": [],
   "source": []
  }
 ],
 "metadata": {
  "kernelspec": {
   "display_name": "Python 3 (ipykernel)",
   "language": "python",
   "name": "python3"
  },
  "language_info": {
   "codemirror_mode": {
    "name": "ipython",
    "version": 3
   },
   "file_extension": ".py",
   "mimetype": "text/x-python",
   "name": "python",
   "nbconvert_exporter": "python",
   "pygments_lexer": "ipython3",
   "version": "3.10.8"
  }
 },
 "nbformat": 4,
 "nbformat_minor": 5
}
