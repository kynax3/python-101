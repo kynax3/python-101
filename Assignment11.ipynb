{
 "cells": [
  {
   "cell_type": "code",
   "execution_count": 1,
   "id": "3221d825-0380-45ca-ab5a-96804cc805b1",
   "metadata": {},
   "outputs": [],
   "source": [
    "#Q1 In Python, an exception is an event that occurs during the execution of a program that disrupts the normal flow of the program's instructions. \n",
    "#    When an exception occurs, the program execution stops and Python raises an exception object. An exception object contains information about \n",
    "#     the error, including its type and the line of code that caused the error.\n",
    "#    Syntax errors, on the other hand, occur when the Python interpreter cannot understand the code due to an incorrect syntax. For example, \n",
    "#     if you forget to put a colon at the end of an if statement, the interpreter will raise a syntax error.\n",
    "#    The main difference between exceptions and syntax errors is that syntax errors occur during the compilation of the code, while exceptions occur\n",
    "#     during the execution of the code."
   ]
  },
  {
   "cell_type": "code",
   "execution_count": 3,
   "id": "d0ec7c2d-f3b2-410b-8217-8b91a9a1b0f2",
   "metadata": {},
   "outputs": [
    {
     "ename": "ZeroDivisionError",
     "evalue": "division by zero",
     "output_type": "error",
     "traceback": [
      "\u001b[0;31m---------------------------------------------------------------------------\u001b[0m",
      "\u001b[0;31mZeroDivisionError\u001b[0m                         Traceback (most recent call last)",
      "Cell \u001b[0;32mIn[3], line 7\u001b[0m\n\u001b[1;32m      5\u001b[0m \u001b[38;5;28;01mdef\u001b[39;00m \u001b[38;5;21mcheck\u001b[39m():\n\u001b[1;32m      6\u001b[0m     dv_0()\n\u001b[0;32m----> 7\u001b[0m \u001b[43mcheck\u001b[49m\u001b[43m(\u001b[49m\u001b[43m)\u001b[49m    \n",
      "Cell \u001b[0;32mIn[3], line 6\u001b[0m, in \u001b[0;36mcheck\u001b[0;34m()\u001b[0m\n\u001b[1;32m      5\u001b[0m \u001b[38;5;28;01mdef\u001b[39;00m \u001b[38;5;21mcheck\u001b[39m():\n\u001b[0;32m----> 6\u001b[0m     \u001b[43mdv_0\u001b[49m\u001b[43m(\u001b[49m\u001b[43m)\u001b[49m\n",
      "Cell \u001b[0;32mIn[3], line 4\u001b[0m, in \u001b[0;36mdv_0\u001b[0;34m()\u001b[0m\n\u001b[1;32m      3\u001b[0m \u001b[38;5;28;01mdef\u001b[39;00m \u001b[38;5;21mdv_0\u001b[39m():\n\u001b[0;32m----> 4\u001b[0m     \u001b[38;5;28;01mreturn\u001b[39;00m \u001b[38;5;241;43m1\u001b[39;49m\u001b[38;5;241;43m/\u001b[39;49m\u001b[38;5;241;43m0\u001b[39;49m\n",
      "\u001b[0;31mZeroDivisionError\u001b[0m: division by zero"
     ]
    }
   ],
   "source": [
    "#Q2  When an exception is not handled, it will propagate up through the call stack until it reaches the top level of the program, where it will cause\n",
    "#     the program to terminate and display an error message. This is known as an unhandled exception.\n",
    "def dv_0():\n",
    "    return 1/0\n",
    "def check():\n",
    "    dv_0()\n",
    "check()\n",
    "# On execution of the above code, python will raise error along with traceback to where the error actually occurs.\n",
    "    "
   ]
  },
  {
   "cell_type": "code",
   "execution_count": 4,
   "id": "27b4158a-2c04-46bb-bf5b-36cf31a6e7b8",
   "metadata": {},
   "outputs": [
    {
     "name": "stdout",
     "output_type": "stream",
     "text": [
      "this error is division by zero\n"
     ]
    }
   ],
   "source": [
    "#Q3\n",
    "# try block is used to catch an exception and whereas except,else,finally are used to handle exceptions.\n",
    "try:\n",
    "    check()\n",
    "except Exception as e:\n",
    "    print(\"this error is {}\".format(e))"
   ]
  },
  {
   "cell_type": "code",
   "execution_count": 1,
   "id": "97e0e8c9-18f1-4edf-8f26-1d430d234936",
   "metadata": {},
   "outputs": [
    {
     "name": "stdout",
     "output_type": "stream",
     "text": [
      "spotless\n"
     ]
    }
   ],
   "source": [
    "#Q4\n",
    "#A- try block allows user to define a block of code to be tested for error while the 'else' block allows to define a code \n",
    "#    block to be executed if no excpetions were raised in the try block.\n",
    "try:\n",
    "    x=10/4\n",
    "except Exception as e:\n",
    "    print(e)\n",
    "else:\n",
    "    print(\"spotless\")"
   ]
  },
  {
   "cell_type": "code",
   "execution_count": 2,
   "id": "745937ad-3e3b-4df0-9c4b-8471e0506ce0",
   "metadata": {},
   "outputs": [
    {
     "name": "stdout",
     "output_type": "stream",
     "text": [
      "division by zero\n",
      "hello world\n"
     ]
    }
   ],
   "source": [
    "#B finally block can be used to implement a code regardless of whether exception occurs or not in the try code block\n",
    "try:\n",
    "    x=10/0\n",
    "except Exception as e:\n",
    "    print(e)\n",
    "else:\n",
    "    print(\"spotless\")\n",
    "finally:\n",
    "    print(\"hello world\")"
   ]
  },
  {
   "cell_type": "code",
   "execution_count": 6,
   "id": "256e5b3d-e7c0-40a4-bf7b-ff93ecdd71fc",
   "metadata": {},
   "outputs": [
    {
     "name": "stdout",
     "output_type": "stream",
     "text": [
      "too high\n"
     ]
    }
   ],
   "source": [
    "#C raise is used when user has to manually define errors in python.\n",
    "def valid_age(age):\n",
    "    if age<0:\n",
    "        raise ValueError(\"Age cannot be negative\")\n",
    "    elif age>150:\n",
    "        raise ValueError(\"too high\")\n",
    "    else:\n",
    "        print(\"Valid age--\",age)\n",
    "try:\n",
    "    valid_age(155)\n",
    "except ValueError as error:\n",
    "    print(error)"
   ]
  },
  {
   "cell_type": "code",
   "execution_count": 10,
   "id": "227d472c-43e6-4f89-9f32-4cecda9b2669",
   "metadata": {},
   "outputs": [
    {
     "name": "stdout",
     "output_type": "stream",
     "text": [
      "(4, 'weight too high')\n"
     ]
    }
   ],
   "source": [
    "#Q5 Custom Exceptions are user-defined exceptions that allows one to create their own exception types with specific error messages and handling\n",
    "#    behavior. Custom Exceptions are useful when one wants to raise an exception for a specific situation that is not covered by the built-in \n",
    "#     exception types.\n",
    "class random_num(Exception):\n",
    "    def __init__(self,age,weight):\n",
    "        self.age=age\n",
    "        self.weight=weight\n",
    "def check_num(age,weight):\n",
    "    if weight>100:\n",
    "        raise random_num(age,\"weight too high\")\n",
    "    if age<0:\n",
    "        raise random_num(age,weight)\n",
    "try:\n",
    "    check_num(4,150)\n",
    "except random_num as e:\n",
    "    print(e)\n"
   ]
  },
  {
   "cell_type": "code",
   "execution_count": null,
   "id": "ffd3cdf5-0ad7-4641-b071-be1f0d9d78e5",
   "metadata": {},
   "outputs": [],
   "source": [
    "#Q6 The above random_num is the custom exeption class which is a sub-class of exception class.The example above uses\n",
    "#itself to handle manual exceptions"
   ]
  }
 ],
 "metadata": {
  "kernelspec": {
   "display_name": "Python 3 (ipykernel)",
   "language": "python",
   "name": "python3"
  },
  "language_info": {
   "codemirror_mode": {
    "name": "ipython",
    "version": 3
   },
   "file_extension": ".py",
   "mimetype": "text/x-python",
   "name": "python",
   "nbconvert_exporter": "python",
   "pygments_lexer": "ipython3",
   "version": "3.10.8"
  }
 },
 "nbformat": 4,
 "nbformat_minor": 5
}
