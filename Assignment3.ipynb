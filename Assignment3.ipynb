{
 "cells": [
  {
   "cell_type": "code",
   "execution_count": 1,
   "id": "5803f45e-6936-4f30-b6e7-c9159f6fdb74",
   "metadata": {},
   "outputs": [],
   "source": [
    "#Q1 - Tuples is a ordered immutable collection of data types. Once defined the elements cannot be reassigned, they \n",
    "#   are immutable."
   ]
  },
  {
   "cell_type": "code",
   "execution_count": 5,
   "id": "3cb95c7b-5443-4d48-a8a8-a6e46f71b0e2",
   "metadata": {},
   "outputs": [
    {
     "name": "stdout",
     "output_type": "stream",
     "text": [
      "2 2\n"
     ]
    }
   ],
   "source": [
    "#Q2 - Count and index are the only methods for tuples.They have only two mehtods as they are immutable in nature.\n",
    "x=(1,1,3)\n",
    "print(x.count(1),x.index(3))"
   ]
  },
  {
   "cell_type": "code",
   "execution_count": 6,
   "id": "f2e1f8f4-5339-4cff-80dc-8d24616aa240",
   "metadata": {},
   "outputs": [
    {
     "name": "stdout",
     "output_type": "stream",
     "text": [
      "{1, 2, 3, 4}\n"
     ]
    }
   ],
   "source": [
    "#Q3 - Set is a collection of datatype that only have unique values stored into it.\n",
    "List=[1,1,1,2,1,3,1,4,2,1,2,2,2,3,2,4,3,1,3,2,3,3,3,4,1,4,2,4,3,4,4]\n",
    "print(set(List))"
   ]
  },
  {
   "cell_type": "code",
   "execution_count": 11,
   "id": "45b66edd-dff5-42b4-94aa-591962a659a7",
   "metadata": {},
   "outputs": [],
   "source": [
    "#Q4 - \n",
    "x=(set(List))\n",
    "y={1,3,6,7}"
   ]
  },
  {
   "cell_type": "code",
   "execution_count": 12,
   "id": "0db15a55-8d64-42ae-8613-d8aa4e703b13",
   "metadata": {},
   "outputs": [],
   "source": [
    "x.update(y)"
   ]
  },
  {
   "cell_type": "code",
   "execution_count": 13,
   "id": "3d8481ce-fe3a-4d49-8c7a-de418fa8e978",
   "metadata": {},
   "outputs": [
    {
     "data": {
      "text/plain": [
       "{1, 2, 3, 4, 6, 7}"
      ]
     },
     "execution_count": 13,
     "metadata": {},
     "output_type": "execute_result"
    }
   ],
   "source": [
    "x"
   ]
  },
  {
   "cell_type": "code",
   "execution_count": 14,
   "id": "eb0e5f98-007d-4c32-8fd0-0dc2619476b1",
   "metadata": {},
   "outputs": [
    {
     "data": {
      "text/plain": [
       "{1, 2, 3, 4, 6, 7, 9, 11}"
      ]
     },
     "execution_count": 14,
     "metadata": {},
     "output_type": "execute_result"
    }
   ],
   "source": [
    "z={11,3,9}\n",
    "z1=x.union(z)\n",
    "z1"
   ]
  },
  {
   "cell_type": "code",
   "execution_count": 15,
   "id": "c3b02358-e77e-4c6e-a298-98645b2036a1",
   "metadata": {},
   "outputs": [
    {
     "data": {
      "text/plain": [
       "{1, 2, 3, 4, 6, 7}"
      ]
     },
     "execution_count": 15,
     "metadata": {},
     "output_type": "execute_result"
    }
   ],
   "source": [
    "x"
   ]
  },
  {
   "cell_type": "code",
   "execution_count": 18,
   "id": "c99a3daa-8d88-400c-bee2-4b4727aeb1bb",
   "metadata": {},
   "outputs": [],
   "source": [
    "# update is an in-built function which makes changes(adds) to the original set, whereas union creates a new set which has \n",
    "# the addition."
   ]
  },
  {
   "cell_type": "code",
   "execution_count": 19,
   "id": "63aa34e0-e65e-4e0d-ac72-c7d86e1bb3d5",
   "metadata": {},
   "outputs": [],
   "source": [
    "#Q5 -  Dictionary is a datatype which is a collection of key:value pairs. Since it is indexed by keywords which are hashable \n",
    "# they are unordered in nature."
   ]
  },
  {
   "cell_type": "code",
   "execution_count": 24,
   "id": "a6c33e83-f0c1-4c7c-923d-c25578087689",
   "metadata": {},
   "outputs": [
    {
     "data": {
      "text/plain": [
       "{1: 1, 2: 8, 3: 27, 4: 64, 5: 125, 6: 216, 7: 343, 8: 512, 9: 729, 10: 1000}"
      ]
     },
     "execution_count": 24,
     "metadata": {},
     "output_type": "execute_result"
    }
   ],
   "source": [
    "#Q6 \n",
    "d1={i:i**3 for i in range(1,11)}\n",
    "d1"
   ]
  },
  {
   "cell_type": "code",
   "execution_count": 25,
   "id": "1dc3ff04-9cc4-47b8-98c8-d687453d7c99",
   "metadata": {},
   "outputs": [],
   "source": [
    "d2={'cat':123,'dog':420}\n",
    "d1[1]=d2"
   ]
  },
  {
   "cell_type": "code",
   "execution_count": 26,
   "id": "60ed77a4-dfb1-442b-a144-b065032eed1e",
   "metadata": {},
   "outputs": [
    {
     "data": {
      "text/plain": [
       "{1: {'cat': 123, 'dog': 420},\n",
       " 2: 8,\n",
       " 3: 27,\n",
       " 4: 64,\n",
       " 5: 125,\n",
       " 6: 216,\n",
       " 7: 343,\n",
       " 8: 512,\n",
       " 9: 729,\n",
       " 10: 1000}"
      ]
     },
     "execution_count": 26,
     "metadata": {},
     "output_type": "execute_result"
    }
   ],
   "source": [
    "d1"
   ]
  },
  {
   "cell_type": "code",
   "execution_count": 27,
   "id": "8f909dd6-ce68-4853-b8e7-415b220dbb1b",
   "metadata": {},
   "outputs": [],
   "source": [
    "#d1 is a example of nested dictionary."
   ]
  },
  {
   "cell_type": "code",
   "execution_count": 30,
   "id": "0c92e44e-663a-4347-87c7-0d6d0ac30557",
   "metadata": {},
   "outputs": [
    {
     "data": {
      "text/plain": [
       "{'language': 'python',\n",
       " 'course': 'data science masters',\n",
       " 'topic': ['python', 'machine learning', 'deep learning']}"
      ]
     },
     "execution_count": 30,
     "metadata": {},
     "output_type": "execute_result"
    }
   ],
   "source": [
    "#Q7 - \n",
    "dict1={'language':'python','course':'data science masters'}\n",
    "dict1.setdefault('topic',['python','machine learning','deep learning'])\n",
    "dict1"
   ]
  },
  {
   "cell_type": "code",
   "execution_count": 31,
   "id": "b79a2f99-ef41-440b-9be1-0a0c9d5de4d7",
   "metadata": {},
   "outputs": [
    {
     "data": {
      "text/plain": [
       "dict_items([('Sport', 'Cricket'), ('Teams', ['India', 'Australia', 'South Africa', 'Sri Lanka', 'New Zealand'])])"
      ]
     },
     "execution_count": 31,
     "metadata": {},
     "output_type": "execute_result"
    }
   ],
   "source": [
    "#Q8 - \n",
    "dict2={'Sport':'Cricket','Teams':['India','Australia','South Africa','Sri Lanka',\"New Zealand\"]}\n",
    "dict2.items()\n",
    "                            "
   ]
  },
  {
   "cell_type": "code",
   "execution_count": 32,
   "id": "6bc4eff1-a7fb-4bf3-a889-ecf8511385ea",
   "metadata": {},
   "outputs": [
    {
     "data": {
      "text/plain": [
       "dict_values(['Cricket', ['India', 'Australia', 'South Africa', 'Sri Lanka', 'New Zealand']])"
      ]
     },
     "execution_count": 32,
     "metadata": {},
     "output_type": "execute_result"
    }
   ],
   "source": [
    "dict2.values()"
   ]
  },
  {
   "cell_type": "code",
   "execution_count": 36,
   "id": "2bf1ca5a-e99a-4ba2-a432-439cd588667f",
   "metadata": {},
   "outputs": [
    {
     "data": {
      "text/plain": [
       "dict_keys(['Sport', 'Teams'])"
      ]
     },
     "execution_count": 36,
     "metadata": {},
     "output_type": "execute_result"
    }
   ],
   "source": [
    "dict2.keys()"
   ]
  },
  {
   "cell_type": "code",
   "execution_count": null,
   "id": "552399be-6dfc-481a-a144-f6990f772f21",
   "metadata": {},
   "outputs": [],
   "source": []
  }
 ],
 "metadata": {
  "kernelspec": {
   "display_name": "Python 3 (ipykernel)",
   "language": "python",
   "name": "python3"
  },
  "language_info": {
   "codemirror_mode": {
    "name": "ipython",
    "version": 3
   },
   "file_extension": ".py",
   "mimetype": "text/x-python",
   "name": "python",
   "nbconvert_exporter": "python",
   "pygments_lexer": "ipython3",
   "version": "3.10.8"
  }
 },
 "nbformat": 4,
 "nbformat_minor": 5
}
