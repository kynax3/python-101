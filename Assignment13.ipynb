{
 "cells": [
  {
   "cell_type": "code",
   "execution_count": 1,
   "id": "a80bfca5-2d92-435e-b87e-708e2bde85bd",
   "metadata": {},
   "outputs": [],
   "source": [
    "#Q1\n",
    "#Multithreading in Python refers to the ability of a program to run multiple threads of execution concurrently within a single process. \n",
    "#Each thread can perform a different task independently of other threads, and they can run simultaneously.\n",
    "#Multithreading is used in Python to achieve concurrency, which means that multiple tasks can be performed at the same time.\n",
    "#Python has a built-in threading module that provides a simple and straightforward way to create and manage threads. The threading module is\n",
    "#used to create, start,and stop threads, as well as to synchronize access to shared resources. It provides a way to run multiple threads \n",
    "#concurrently in a Python program.\n",
    "#By using the threading module, developers can write programs that take advantage of multiple CPUs and cores, which can lead to significant performance\n",
    "#improvements in certain types of applications."
   ]
  },
  {
   "cell_type": "code",
   "execution_count": null,
   "id": "8b7aedfc-404c-4221-bca7-fc99212709f7",
   "metadata": {},
   "outputs": [],
   "source": [
    "#Q2\n",
    "#The threading module in Python is used to create and manage threads. It provides a way to run multiple threads concurrently in a Python program.\n",
    "#Here are the uses of the following functions in the threading module:\n",
    "#1.activeCount(): This function returns the number of currently active threads in the current thread object. It can be used to check how many threads\n",
    "#    are currently running in the program.\n",
    "#2.currentThread(): This function returns a reference to the current thread object. It can be used to get information about the currently running \n",
    "#    thread, such as its name, identification number, or to set attributes on the thread object.\n",
    "#3.enumerate(): This function returns a list of all currently active thread objects in the program. It can be used to get information about all\n",
    "#    threads running in the program, such as their names or identification numbers."
   ]
  },
  {
   "cell_type": "code",
   "execution_count": 4,
   "id": "447c3329-7108-4ada-8807-4e96e3e5143a",
   "metadata": {},
   "outputs": [],
   "source": [
    "#Q3In the threading module in Python, the following functions are used to manage threads:\n",
    "\n",
    "#run(): This method is used to define the behavior of a thread when it is started. It is called when a thread is started using the start() \n",
    "#method. In general, you should not call run() directly. Instead, you should subclass the Thread class and override its run() method to \n",
    "#define the behavior of your thread.\n",
    "#2. start(): This method is used to start a thread. When you call start(), the thread's run() method is called in a separate thread of execution.\n",
    "#          This method must be called exactly once per thread object. If you call it more than once, you'll get a RuntimeError.\n",
    "#3. join(): This method is used to wait for a thread to complete its execution. When you call join() on a thread object, your program will block \n",
    "#          until the thread completes. This is useful if you want to wait for a thread to finish before doing something else.\n",
    "#isAlive(): This method is used to check if a thread is currently running. It returns True if the thread is running and False otherwise. \n",
    "#           This can be useful if you want to check if a thread has completed its work before calling join() on it.\n",
    "#       In summary, these functions are used to create, start, and manage threads in Python. run() is used to define the behavior of a thread, start()\n",
    "#        is used to start a thread, join() is used to wait for a thread to complete, and isAlive() is used to check if a thread is currently running\n"
   ]
  },
  {
   "cell_type": "code",
   "execution_count": 8,
   "id": "f7044c72-5f99-4579-8cce-dea9e9b73b0f",
   "metadata": {},
   "outputs": [
    {
     "name": "stdout",
     "output_type": "stream",
     "text": [
      "0\n",
      "1\n",
      "4\n",
      "9\n",
      "16\n",
      "25\n",
      "36\n",
      "49\n",
      "64\n",
      "0\n",
      "1\n",
      "8\n",
      "27\n",
      "64\n",
      "125\n",
      "216\n",
      "343\n",
      "512\n"
     ]
    }
   ],
   "source": [
    "#Q4\n",
    "import threading\n",
    "def sq(x):\n",
    "    print(x*x)\n",
    "thread1=[threading.Thread(target=sq, args=(i,)) for i in range(0,9)]    \n",
    "for t in thread1:\n",
    "    t.start()\n",
    "def cube(x):\n",
    "    print(x*x*x)\n",
    "thread1=[threading.Thread(target=cube, args=(i,)) for i in range(0,9)]    \n",
    "for t in thread1:\n",
    "    t.start()\n",
    "\n"
   ]
  },
  {
   "cell_type": "code",
   "execution_count": 9,
   "id": "c94023eb-0bad-4f2f-8151-3b94f02864b6",
   "metadata": {},
   "outputs": [],
   "source": [
    "#Q5  Multithreading is a programming technique that allows multiple threads of execution to run simultaneously within a single \n",
    "#      process. While multithreading can offer several benefits, it also has some potential drawbacks. Here are some advantages and\n",
    "#Advantages of Multithreading:\n",
    "#Increased performance: Multithreading can improve the performance of a program by allowing multiple tasks to be performed simultaneously.\n",
    "#Responsiveness: Multithreading can help make a program more responsive by allowing it to handle multiple user requests at the same time.\n",
    "#Resource sharing: Multithreading can allow multiple threads to share resources, such as memory or I/O devices, more efficiently.\n",
    "#Simplified code: Multithreading can simplify the code of a program by allowing it to be broken down into smaller, more manageable pieces.\n",
    "#Disadvantages of Multithreading:\n",
    "#Complexity: Multithreading can add complexity to a program, as it requires careful coordination of the various threads to avoid issues\n",
    "#           such as race conditions or deadlocks.\n",
    "#Increased memory usage: Multithreading can lead to increased memory usage, as each thread requires its own stack and other resources.\n",
    "#Synchronization overhead: Synchronizing access to shared resources between threads can add overhead and reduce performance.\n",
    "#Debugging: Debugging multithreaded code can be more difficult than debugging single-threaded code, as issues may only occur under specific \n",
    "#    conditions and can be difficult to reproduce.\n",
    "#In summary, multithreading can offer significant benefits in terms of performance and responsiveness, but it also introduces some complexity \n",
    "# and potential issues that must be carefully managed. Proper design and implementation of multithreaded code is important to \n",
    "# avoid potential problems and maximize the benefits of this technique."
   ]
  },
  {
   "cell_type": "code",
   "execution_count": null,
   "id": "2b896c70-bddf-4f3f-855f-465cb07656e8",
   "metadata": {},
   "outputs": [],
   "source": [
    "#Q6\n",
    "#Deadlocks and race conditions are both potential issues that can occur in multithreaded programs.\n",
    "#A deadlock occurs when two or more threads are blocked, waiting for each other to release resources that they need to continue executing. \n",
    "#This can happen when two or more threads try to acquire the same resources in a different order, or when they hold onto resources for \n",
    "#too long without releasing them. Deadlocks can cause a program to hang or become unresponsive, and they can be difficult to debug.\n",
    "#A race condition occurs when two or more threads access shared resources in an unexpected order, leading to unpredictable results. \n",
    "#This can happen when two or more threads try to modify the same resource at the same time, or when they make assumptions about the state \n",
    "#of a resource that turn out to be incorrect. Race conditions can cause a program to behave incorrectly or crash, and they can be difficult\n",
    "#to reproduce and debug.\n",
    "#To avoid deadlocks and race conditions, multithreaded programs should be carefully designed and tested. Synchronization primitives such\n",
    "#as locks, and condition variables can be used to coordinate access to shared resources and prevent multiple threads from \n",
    "#accessing them at the same time. "
   ]
  }
 ],
 "metadata": {
  "kernelspec": {
   "display_name": "Python 3 (ipykernel)",
   "language": "python",
   "name": "python3"
  },
  "language_info": {
   "codemirror_mode": {
    "name": "ipython",
    "version": 3
   },
   "file_extension": ".py",
   "mimetype": "text/x-python",
   "name": "python",
   "nbconvert_exporter": "python",
   "pygments_lexer": "ipython3",
   "version": "3.10.8"
  }
 },
 "nbformat": 4,
 "nbformat_minor": 5
}
