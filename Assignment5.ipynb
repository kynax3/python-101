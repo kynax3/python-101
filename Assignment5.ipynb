{
 "cells": [
  {
   "cell_type": "code",
   "execution_count": 4,
   "id": "bce441c3-b894-4ec1-a621-065aa49223bb",
   "metadata": {},
   "outputs": [
    {
     "data": {
      "text/plain": [
       "[('kohli', 24936), ('kallis', 25534), ('ponting', 27483), ('sachin', 34357)]"
      ]
     },
     "execution_count": 4,
     "metadata": {},
     "output_type": "execute_result"
    }
   ],
   "source": [
    "#Q1\n",
    "L=[('sachin',34357),('ponting',27483),('kallis',25534),('kohli',24936)]\n",
    "L.sort(key=lambda x:x[1])\n",
    "L"
   ]
  },
  {
   "cell_type": "code",
   "execution_count": 5,
   "id": "5361dd80-579f-439b-aa93-7e0389a17316",
   "metadata": {},
   "outputs": [
    {
     "data": {
      "text/plain": [
       "[1, 4, 9, 16, 25, 36, 49, 64, 81, 100]"
      ]
     },
     "execution_count": 5,
     "metadata": {},
     "output_type": "execute_result"
    }
   ],
   "source": [
    "#Q2\n",
    "x=[1,2,3,4,5,6,7,8,9,10]\n",
    "y=list(map(lambda x:x**2,x))\n",
    "y\n",
    "       "
   ]
  },
  {
   "cell_type": "code",
   "execution_count": 6,
   "id": "6a8c2793-daac-4f6c-961b-2f0bf99f9a9c",
   "metadata": {},
   "outputs": [
    {
     "data": {
      "text/plain": [
       "['1', '2', '3', '4', '5', '6', '7', '8', '9', '10']"
      ]
     },
     "execution_count": 6,
     "metadata": {},
     "output_type": "execute_result"
    }
   ],
   "source": [
    "#Q3\n",
    "z=list(map(lambda x:str(x),x))\n",
    "z"
   ]
  },
  {
   "cell_type": "code",
   "execution_count": 12,
   "id": "9f1dc8aa-3a21-4178-bd4c-68ab212c509e",
   "metadata": {},
   "outputs": [
    {
     "data": {
      "text/plain": [
       "15511210043330985984000000"
      ]
     },
     "execution_count": 12,
     "metadata": {},
     "output_type": "execute_result"
    }
   ],
   "source": [
    "#Q4\n",
    "lisT=[x for x in range(1,26)]\n",
    "from functools import reduce\n",
    "product=reduce(lambda z,y:z*y,lisT)\n",
    "product\n"
   ]
  },
  {
   "cell_type": "code",
   "execution_count": 15,
   "id": "e92f65c9-dd1b-4a5a-bfe7-b981261f2f94",
   "metadata": {},
   "outputs": [
    {
     "data": {
      "text/plain": [
       "[6, 60, 90, 120]"
      ]
     },
     "execution_count": 15,
     "metadata": {},
     "output_type": "execute_result"
    }
   ],
   "source": [
    "#Q5\n",
    "l=[2,3,6,9,27,60,90,120,55,46]\n",
    "div_6=list(filter(lambda x:x%2==0 and x%3==0,l ))\n",
    "div_6"
   ]
  },
  {
   "cell_type": "code",
   "execution_count": null,
   "id": "2c9dfddc-ac80-4534-929b-24f03da91a3f",
   "metadata": {},
   "outputs": [],
   "source": [
    "#Q6\n",
    "palin=['python','php','aba','radar','level']\n",
    "palist=list(filter(lambda x : x=x[::-"
   ]
  }
 ],
 "metadata": {
  "kernelspec": {
   "display_name": "Python 3 (ipykernel)",
   "language": "python",
   "name": "python3"
  },
  "language_info": {
   "codemirror_mode": {
    "name": "ipython",
    "version": 3
   },
   "file_extension": ".py",
   "mimetype": "text/x-python",
   "name": "python",
   "nbconvert_exporter": "python",
   "pygments_lexer": "ipython3",
   "version": "3.10.8"
  }
 },
 "nbformat": 4,
 "nbformat_minor": 5
}
