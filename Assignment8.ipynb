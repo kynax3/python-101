{
 "cells": [
  {
   "cell_type": "code",
   "execution_count": 6,
   "id": "2621c8b8-c2a8-47be-bd2d-02bbe5db17b6",
   "metadata": {},
   "outputs": [
    {
     "name": "stdin",
     "output_type": "stream",
     "text": [
      "Enter a suitable password ##$eeAA22q\n"
     ]
    },
    {
     "name": "stdout",
     "output_type": "stream",
     "text": [
      "valid password\n"
     ]
    }
   ],
   "source": [
    "#Q1\n",
    "password=input('Enter a suitable password')\n",
    "def check_password(x):\n",
    "    upper_letters=0\n",
    "    lower_letters=0\n",
    "    digits=0\n",
    "    special=0\n",
    "    if len(x)!=10:\n",
    "        print('invalid password:The length of the password should be 10 characters')\n",
    "    else:\n",
    "        for i in x:\n",
    "            if i.isupper():\n",
    "                upper_letters+=1\n",
    "            elif i.islower():\n",
    "                lower_letters+=1\n",
    "            elif i.isdigit():\n",
    "                digits+=1\n",
    "            else:\n",
    "                special+=1\n",
    "    if upper_letters<2:\n",
    "        print('invalid password: need atleast 2 uppercase letters')\n",
    "    elif lower_letters<2:\n",
    "         print('invalid password: need atleast 2 lowercase letters')\n",
    "    elif digits<1:\n",
    "         print('invalid password: need atleast 1 digit')\n",
    "    elif special<3:\n",
    "         print('invalid password: need atleast 3 special characters')\n",
    "    else:\n",
    "        return print('valid password')\n",
    "check_password(password)            "
   ]
  },
  {
   "cell_type": "code",
   "execution_count": 1,
   "id": "048df214-0dfe-4f14-9191-1e69697aade6",
   "metadata": {},
   "outputs": [
    {
     "data": {
      "text/plain": [
       "True"
      ]
     },
     "execution_count": 1,
     "metadata": {},
     "output_type": "execute_result"
    }
   ],
   "source": [
    "#Q2\n",
    "#1\n",
    "check_char=lambda x,y:x[0]==y\n",
    "check_char('hi world','h')"
   ]
  },
  {
   "cell_type": "code",
   "execution_count": 2,
   "id": "f0bf819e-3b91-4629-a25b-de7b01478aaa",
   "metadata": {},
   "outputs": [
    {
     "data": {
      "text/plain": [
       "True"
      ]
     },
     "execution_count": 2,
     "metadata": {},
     "output_type": "execute_result"
    }
   ],
   "source": [
    "#2\n",
    "check_string= lambda x:x.isdigit()\n",
    "check_string('123')"
   ]
  },
  {
   "cell_type": "code",
   "execution_count": 17,
   "id": "d79d2402-991f-4355-a220-98095f503fc3",
   "metadata": {},
   "outputs": [
    {
     "name": "stdout",
     "output_type": "stream",
     "text": [
      "[('orange', 80), ('mango', 99), ('grapes', 1000)]\n"
     ]
    }
   ],
   "source": [
    "#3\n",
    "xyz=[('mango',99),('orange',80),('grapes',1000)] \n",
    "sort_number=sorted(xyz,key=lambda x:x[1])\n",
    "print (sort_number)"
   ]
  },
  {
   "cell_type": "code",
   "execution_count": 18,
   "id": "3d55d1bb-0e8a-4f64-a902-7c56a25b73f0",
   "metadata": {},
   "outputs": [
    {
     "data": {
      "text/plain": [
       "[1, 4, 9, 16, 25, 36, 49, 64, 81, 100]"
      ]
     },
     "execution_count": 18,
     "metadata": {},
     "output_type": "execute_result"
    }
   ],
   "source": [
    "#4\n",
    "List_sq=[x*x for x in range(1,11)]\n",
    "List_sq"
   ]
  },
  {
   "cell_type": "code",
   "execution_count": 20,
   "id": "40d05da9-3939-4d53-a8a7-e47334c24562",
   "metadata": {},
   "outputs": [
    {
     "data": {
      "text/plain": [
       "[1.0,\n",
       " 1.2599210498948732,\n",
       " 1.4422495703074083,\n",
       " 1.5874010519681994,\n",
       " 1.7099759466766968,\n",
       " 1.8171205928321397,\n",
       " 1.912931182772389,\n",
       " 2.0,\n",
       " 2.080083823051904,\n",
       " 2.154434690031884]"
      ]
     },
     "execution_count": 20,
     "metadata": {},
     "output_type": "execute_result"
    }
   ],
   "source": [
    "#5\n",
    "list_cube_root=[x**(1/3) for x in range(1,11)]\n",
    "list_cube_root"
   ]
  },
  {
   "cell_type": "code",
   "execution_count": 1,
   "id": "c810f339-13b6-46b8-b2a5-efe9030c37d1",
   "metadata": {},
   "outputs": [
    {
     "data": {
      "text/plain": [
       "True"
      ]
     },
     "execution_count": 1,
     "metadata": {},
     "output_type": "execute_result"
    }
   ],
   "source": [
    "#6 \n",
    "check_even=lambda x:True if x%2==0 else False\n",
    "check_even(44)"
   ]
  },
  {
   "cell_type": "code",
   "execution_count": 3,
   "id": "23b8d496-3a04-4d30-ae12-796be7877502",
   "metadata": {},
   "outputs": [
    {
     "data": {
      "text/plain": [
       "[1, 3, 5, 7, 9]"
      ]
     },
     "execution_count": 3,
     "metadata": {},
     "output_type": "execute_result"
    }
   ],
   "source": [
    "#7\n",
    "List=[x for x in range(1,11)]\n",
    "l=list(filter(lambda x:x%2!=0, List))\n",
    "l"
   ]
  },
  {
   "cell_type": "code",
   "execution_count": 4,
   "id": "163cbd2b-5998-451f-b26c-c639e1f495da",
   "metadata": {},
   "outputs": [
    {
     "name": "stdout",
     "output_type": "stream",
     "text": [
      "[1, 2, 3, 4, 5, 6] [-1, -2, -3, -4, -5]\n"
     ]
    }
   ],
   "source": [
    "#8\n",
    "List1=[1,2,3,4,5,6,-1,-2,-3,-4,-5,0]\n",
    "l_p=list(filter(lambda x:x>0,List1))\n",
    "l_n=list(filter(lambda x:x<0,List1))\n",
    "print(l_p, l_n)"
   ]
  },
  {
   "cell_type": "code",
   "execution_count": null,
   "id": "1d17659f-d540-4eaf-94e1-d71273c4edd5",
   "metadata": {},
   "outputs": [],
   "source": []
  }
 ],
 "metadata": {
  "kernelspec": {
   "display_name": "Python 3 (ipykernel)",
   "language": "python",
   "name": "python3"
  },
  "language_info": {
   "codemirror_mode": {
    "name": "ipython",
    "version": 3
   },
   "file_extension": ".py",
   "mimetype": "text/x-python",
   "name": "python",
   "nbconvert_exporter": "python",
   "pygments_lexer": "ipython3",
   "version": "3.10.8"
  }
 },
 "nbformat": 4,
 "nbformat_minor": 5
}
