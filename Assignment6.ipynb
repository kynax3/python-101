{
 "cells": [
  {
   "cell_type": "code",
   "execution_count": 1,
   "id": "bf97ac72-747f-4dd4-b4cf-e6c1bdc98252",
   "metadata": {},
   "outputs": [],
   "source": [
    "#Q1:\n",
    "#In Object-Oriented Programming, a class is a blueprint or template(similar to creating a datatype like int,string.\n",
    "# for creating objects, providing initial conditions and implementations of behavior (like methods).\n",
    "#An instance of a class, created at runtime, with its own values for the class's attributes and access to the class's behavior.\n",
    "#Example: Consider a class Person which has attributes like name, age, address, education and so on with methods available\n",
    "# defined in the class like intro(), information() etc.\n",
    "#An instance of the class Person can be created as an object or instance \"Mohan\",or maybe \"anyperson_name\" with his own values for name,\n",
    "#age, and address and can call the methods associated with the class."
   ]
  },
  {
   "cell_type": "code",
   "execution_count": 2,
   "id": "239942fc-6fe2-4fef-a73d-88a8e8868e3e",
   "metadata": {},
   "outputs": [],
   "source": [
    "#Q2:\n",
    "#The four pillars of Object-Oriented Programming (OOP) are:\n",
    "#Abstraction: Hiding the implementation details and showing only the necessary information to the user.\n",
    "#Encapsulation: Wrapping up the data and functions that operate on the data within a single unit or object.\n",
    "#Inheritance: Creating a new class based on an existing class, thereby reusing code and improving the organization of the code.\n",
    "#Polymorphism: The ability of an object to take on multiple forms. It allows objects of different classes to be treated as objects of a single class."
   ]
  },
  {
   "cell_type": "code",
   "execution_count": 6,
   "id": "f74bf4e1-3502-4cf8-b165-73364a70a602",
   "metadata": {},
   "outputs": [],
   "source": [
    "#Q3\n",
    "#The __init__ method, also known as a constructor, is used in Python classes to initialize the object's state when it is created. \n",
    "#It is automatically called after an object is created from a class, and it's used to set the initial values for object attributes.\n",
    "#Example: Consider a class Person with attributes name, age and address. When an object is created from this class,\n",
    "#__init__ can be used to set the initial values for the attributes.\n",
    "\n",
    "class Person:\n",
    "    def __init__(self, name, age, address):\n",
    "        self.name = name\n",
    "        self.age = age\n",
    "        self.address = address\n",
    "\n",
    "person = Person(\"Sid\", 30, \"New-Delhi\")"
   ]
  },
  {
   "cell_type": "code",
   "execution_count": 4,
   "id": "9105c0a5-6429-4c1a-a776-348f756562e1",
   "metadata": {},
   "outputs": [
    {
     "data": {
      "text/plain": [
       "30"
      ]
     },
     "execution_count": 4,
     "metadata": {},
     "output_type": "execute_result"
    }
   ],
   "source": [
    "person.age"
   ]
  },
  {
   "cell_type": "code",
   "execution_count": 1,
   "id": "7b9fc7c0-a5c9-494c-9984-5cb34b2a9a6f",
   "metadata": {},
   "outputs": [],
   "source": [
    "#Q4\n",
    "#In Object-Oriented Programming, the self keyword is used as a reference to the instance of the class. \n",
    "#It is a conventional way to refer to the instance, and it is automatically passed as the first argument to methods defined on the class.\n",
    "#The self keyword allows methods to access and modify the state of the instance, and it makes it possible for different instances to have\n",
    "#their own separate state, even if they are instances of the same class. This makes it possible to havemultiple objects that have the same \n",
    "#behavior but different data, and it is one of the key concepts that makes Object-Oriented Programming so powerful."
   ]
  },
  {
   "cell_type": "code",
   "execution_count": 1,
   "id": "413e81c5-a17a-4124-a448-8735f6f20ab5",
   "metadata": {},
   "outputs": [
    {
     "name": "stdout",
     "output_type": "stream",
     "text": [
      "I am a Dog\n"
     ]
    }
   ],
   "source": [
    "#Q5\n",
    "#Inheritance is a mechanism in Object-Oriented Programming (OOP) that allows a new class to be created based on an existing class.\n",
    "#The new class is called the subclass or derived class, and the existing class is called the superclass or base class. \n",
    "#Inheritance allows the new class to reuse the attributes and methods of the existing class and to add new attributes and methods as needed.\n",
    "\n",
    "#There are mainly four types of inheritance in OOP, including:\n",
    "#Single inheritance: A subclass inherits attributes and methods from a single superclass.\n",
    "class Animal:\n",
    "    def __init__(self, name, species):\n",
    "        self.name = name\n",
    "        self.species = species\n",
    "\n",
    "    def show_species(self):\n",
    "        print(f\"I am a {self.species}\")\n",
    "\n",
    "class Dog(Animal):\n",
    "    def __init__(self, name, breed):\n",
    "        Animal.__init__(self, name, species=\"Dog\")\n",
    "        self.breed = breed\n",
    "\n",
    "dog = Dog(\"Buddy\", \"Labrador\")\n",
    "dog.show_species()"
   ]
  },
  {
   "cell_type": "code",
   "execution_count": 5,
   "id": "3d7ae159-3452-4531-b3ce-62028b28e376",
   "metadata": {},
   "outputs": [
    {
     "name": "stdout",
     "output_type": "stream",
     "text": [
      "Engine started\n",
      "Car is driving\n"
     ]
    }
   ],
   "source": [
    "#Multiple inheritance: A subclass inherits attributes and methods from multiple superclasses.\n",
    "class Engine:\n",
    "    def start(self):\n",
    "        print(\"Engine started\")\n",
    "\n",
    "class Car:\n",
    "    def drive(self):\n",
    "        print(\"Car is driving\")\n",
    "\n",
    "class ElectricCar(Engine, Car):\n",
    "    def __init__(self):\n",
    "        Engine.__init__(self)\n",
    "        Car.__init__(self)\n",
    "\n",
    "electric_car = ElectricCar()\n",
    "electric_car.start()\n",
    "electric_car.drive()"
   ]
  },
  {
   "cell_type": "code",
   "execution_count": 3,
   "id": "55e07368-76ec-4bd3-821d-5a9c505f85f4",
   "metadata": {},
   "outputs": [
    {
     "name": "stdout",
     "output_type": "stream",
     "text": [
      "I am a Cat\n",
      "I am a Dog\n"
     ]
    }
   ],
   "source": [
    "#hierarchical inheritance: A single superclass is inherited by multiple subclasses\n",
    "class Animal:\n",
    "    def __init__(self, name, species):\n",
    "        self.name = name\n",
    "        self.species = species\n",
    "\n",
    "    def show_species(self):\n",
    "        print(f\"I am a {self.species}\")\n",
    "\n",
    "class Cat(Animal):\n",
    "    def __init__(self, name, breed):\n",
    "        Animal.__init__(self, name, species=\"Cat\")\n",
    "        self.breed = breed\n",
    "\n",
    "class Dog(Animal):\n",
    "    def __init__(self, name, breed):\n",
    "        Animal.__init__(self, name, species=\"Dog\")\n",
    "        self.breed = breed\n",
    "\n",
    "cat = Cat(\"Whiskers\", \"Siamese\")\n",
    "cat.show_species()\n",
    "\n",
    "dog = Dog(\"Buddy\", \"Labrador\")\n",
    "dog.show_species()"
   ]
  },
  {
   "cell_type": "code",
   "execution_count": 4,
   "id": "4a6d1e59-9c67-4f6a-b65a-4b083e5f54e2",
   "metadata": {},
   "outputs": [
    {
     "name": "stdout",
     "output_type": "stream",
     "text": [
      "Engine started\n",
      "Car is driving\n"
     ]
    }
   ],
   "source": [
    "#Hybrid inheritance: A combination of two or more types of inheritance.\n",
    "class Engine:\n",
    "    def start(self):\n",
    "        print(\"Engine started\")\n",
    "\n",
    "class Car:\n",
    "    def drive(self):\n",
    "        print(\"Car is driving\")\n",
    "\n",
    "class ElectricCar(Engine, Car):\n",
    "    def __init__(self):\n",
    "        Engine.__init__(self)\n",
    "\n",
    "class HybridCar(ElectricCar, Car):\n",
    "    def __init__(self):\n",
    "        ElectricCar.__init__(self)\n",
    "\n",
    "hybrid_car = HybridCar()\n",
    "hybrid_car.start()\n",
    "hybrid_car.drive()"
   ]
  },
  {
   "cell_type": "code",
   "execution_count": null,
   "id": "9c45b0d7-ea92-41eb-a538-68b0a7dc4aed",
   "metadata": {},
   "outputs": [],
   "source": []
  }
 ],
 "metadata": {
  "kernelspec": {
   "display_name": "Python 3 (ipykernel)",
   "language": "python",
   "name": "python3"
  },
  "language_info": {
   "codemirror_mode": {
    "name": "ipython",
    "version": 3
   },
   "file_extension": ".py",
   "mimetype": "text/x-python",
   "name": "python",
   "nbconvert_exporter": "python",
   "pygments_lexer": "ipython3",
   "version": "3.10.8"
  }
 },
 "nbformat": 4,
 "nbformat_minor": 5
}
